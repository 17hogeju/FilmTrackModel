{
 "cells": [
  {
   "cell_type": "code",
   "execution_count": 1,
   "id": "6f470277-8882-4545-b79b-a3ebeb07f588",
   "metadata": {
    "tags": []
   },
   "outputs": [],
   "source": [
    "import matplotlib.pyplot as plt\n",
    "import numpy as np\n",
    "from sentence_transformers import SentenceTransformer\n",
    "import pandas as pd\n",
    "import seaborn as sns\n",
    "from sklearn.feature_extraction.text import CountVectorizer\n",
    "from sklearn.cluster import KMeans\n",
    "from sklearn.metrics.pairwise import cosine_similarity\n",
    "from sklearn.decomposition import PCA\n",
    "\n",
    "plt.style.use('ggplot')\n",
    "plt.rcParams['font.family'] = 'sans-serif' \n",
    "plt.rcParams['font.serif'] = 'Ubuntu' \n",
    "plt.rcParams['font.monospace'] = 'Ubuntu Mono' \n",
    "plt.rcParams['font.size'] = 14 \n",
    "plt.rcParams['axes.labelsize'] = 12 \n",
    "plt.rcParams['axes.labelweight'] = 'bold' \n",
    "plt.rcParams['axes.titlesize'] = 12 \n",
    "plt.rcParams['xtick.labelsize'] = 12 \n",
    "plt.rcParams['ytick.labelsize'] = 12 \n",
    "plt.rcParams['legend.fontsize'] = 12 \n",
    "plt.rcParams['figure.titlesize'] = 12 \n",
    "plt.rcParams['image.cmap'] = 'jet' \n",
    "plt.rcParams['image.interpolation'] = 'none' \n",
    "plt.rcParams['figure.figsize'] = (12, 10) \n",
    "plt.rcParams['axes.grid']=True\n",
    "plt.rcParams['lines.linewidth'] = 2 \n",
    "plt.rcParams['lines.markersize'] = 8\n",
    "colors = ['xkcd:pale orange', 'xkcd:sea blue', 'xkcd:pale red', 'xkcd:sage green', 'xkcd:terra cotta', 'xkcd:dull purple', 'xkcd:teal', 'xkcd: goldenrod', 'xkcd:cadet blue',\n",
    "'xkcd:scarlet']"
   ]
  },
  {
   "cell_type": "code",
   "execution_count": 2,
   "id": "5e1e123e-c50a-44ed-a3bf-ce965943bed0",
   "metadata": {},
   "outputs": [],
   "source": [
    "data = pd.read_csv('media.csv')"
   ]
  },
  {
   "cell_type": "code",
   "execution_count": 3,
   "id": "3ccbc665-e706-419f-9b43-85df68d87f8d",
   "metadata": {},
   "outputs": [
    {
     "data": {
      "text/html": [
       "<div>\n",
       "<style scoped>\n",
       "    .dataframe tbody tr th:only-of-type {\n",
       "        vertical-align: middle;\n",
       "    }\n",
       "\n",
       "    .dataframe tbody tr th {\n",
       "        vertical-align: top;\n",
       "    }\n",
       "\n",
       "    .dataframe thead th {\n",
       "        text-align: right;\n",
       "    }\n",
       "</style>\n",
       "<table border=\"1\" class=\"dataframe\">\n",
       "  <thead>\n",
       "    <tr style=\"text-align: right;\">\n",
       "      <th></th>\n",
       "      <th>media_type</th>\n",
       "      <th>id</th>\n",
       "      <th>title</th>\n",
       "      <th>overview</th>\n",
       "      <th>credits</th>\n",
       "      <th>genre_ids</th>\n",
       "      <th>top_cast</th>\n",
       "    </tr>\n",
       "  </thead>\n",
       "  <tbody>\n",
       "    <tr>\n",
       "      <th>0</th>\n",
       "      <td>movie</td>\n",
       "      <td>27205</td>\n",
       "      <td>Inception</td>\n",
       "      <td>Cobb, a skilled thief who commits corporate es...</td>\n",
       "      <td>525 525 556 2157773 2157775 41018 54211</td>\n",
       "      <td>28 878 12</td>\n",
       "      <td>6193 24045 3899 2524 27578</td>\n",
       "    </tr>\n",
       "    <tr>\n",
       "      <th>1</th>\n",
       "      <td>movie</td>\n",
       "      <td>155</td>\n",
       "      <td>The Dark Knight</td>\n",
       "      <td>Batman raises the stakes in his war on crime. ...</td>\n",
       "      <td>525 525 527 282 525 556 20643 10949 10951 5421...</td>\n",
       "      <td>18 28 80 53</td>\n",
       "      <td>3894 1810 3895 64 6383</td>\n",
       "    </tr>\n",
       "    <tr>\n",
       "      <th>2</th>\n",
       "      <td>movie</td>\n",
       "      <td>24428</td>\n",
       "      <td>The Avengers</td>\n",
       "      <td>When an unexpected enemy emerges and threatens...</td>\n",
       "      <td>12891 12891 10850 7624 7626 15277 41018 57027</td>\n",
       "      <td>878 28 12</td>\n",
       "      <td>3223 16828 103 74568 1245</td>\n",
       "    </tr>\n",
       "    <tr>\n",
       "      <th>3</th>\n",
       "      <td>movie</td>\n",
       "      <td>19995</td>\n",
       "      <td>Avatar</td>\n",
       "      <td>In the 22nd century, a paraplegic Marine is di...</td>\n",
       "      <td>2710 2710 8529 20294 1385649</td>\n",
       "      <td>28 12 14 878</td>\n",
       "      <td>65731 8691 10205 32747 17647</td>\n",
       "    </tr>\n",
       "    <tr>\n",
       "      <th>4</th>\n",
       "      <td>movie</td>\n",
       "      <td>293660</td>\n",
       "      <td>Deadpool</td>\n",
       "      <td>The origin story of former Special Forces oper...</td>\n",
       "      <td>55252 7200 11092 10859 7624 7932 25292 71230 9...</td>\n",
       "      <td>28 12 35</td>\n",
       "      <td>10859 54882 1047649 51990 78452</td>\n",
       "    </tr>\n",
       "  </tbody>\n",
       "</table>\n",
       "</div>"
      ],
      "text/plain": [
       "  media_type      id            title  \\\n",
       "0      movie   27205        Inception   \n",
       "1      movie     155  The Dark Knight   \n",
       "2      movie   24428     The Avengers   \n",
       "3      movie   19995           Avatar   \n",
       "4      movie  293660         Deadpool   \n",
       "\n",
       "                                            overview  \\\n",
       "0  Cobb, a skilled thief who commits corporate es...   \n",
       "1  Batman raises the stakes in his war on crime. ...   \n",
       "2  When an unexpected enemy emerges and threatens...   \n",
       "3  In the 22nd century, a paraplegic Marine is di...   \n",
       "4  The origin story of former Special Forces oper...   \n",
       "\n",
       "                                             credits     genre_ids  \\\n",
       "0            525 525 556 2157773 2157775 41018 54211     28 878 12   \n",
       "1  525 525 527 282 525 556 20643 10949 10951 5421...   18 28 80 53   \n",
       "2      12891 12891 10850 7624 7626 15277 41018 57027     878 28 12   \n",
       "3                       2710 2710 8529 20294 1385649  28 12 14 878   \n",
       "4  55252 7200 11092 10859 7624 7932 25292 71230 9...      28 12 35   \n",
       "\n",
       "                          top_cast  \n",
       "0       6193 24045 3899 2524 27578  \n",
       "1           3894 1810 3895 64 6383  \n",
       "2        3223 16828 103 74568 1245  \n",
       "3     65731 8691 10205 32747 17647  \n",
       "4  10859 54882 1047649 51990 78452  "
      ]
     },
     "execution_count": 3,
     "metadata": {},
     "output_type": "execute_result"
    }
   ],
   "source": [
    "movie_data = data.loc[data.media_type == 'movie']\n",
    "movie_data = movie_data[['media_type','id','title','overview','credits','genre_ids','top_cast']]\n",
    "movie_data.head()"
   ]
  },
  {
   "cell_type": "code",
   "execution_count": 4,
   "id": "72cd983e-f868-4e9e-b788-d7b9df0166f2",
   "metadata": {},
   "outputs": [
    {
     "data": {
      "text/html": [
       "<div>\n",
       "<style scoped>\n",
       "    .dataframe tbody tr th:only-of-type {\n",
       "        vertical-align: middle;\n",
       "    }\n",
       "\n",
       "    .dataframe tbody tr th {\n",
       "        vertical-align: top;\n",
       "    }\n",
       "\n",
       "    .dataframe thead th {\n",
       "        text-align: right;\n",
       "    }\n",
       "</style>\n",
       "<table border=\"1\" class=\"dataframe\">\n",
       "  <thead>\n",
       "    <tr style=\"text-align: right;\">\n",
       "      <th></th>\n",
       "      <th>media_type</th>\n",
       "      <th>id</th>\n",
       "      <th>title</th>\n",
       "      <th>overview</th>\n",
       "      <th>credits</th>\n",
       "      <th>genre_ids</th>\n",
       "      <th>top_cast</th>\n",
       "    </tr>\n",
       "  </thead>\n",
       "  <tbody>\n",
       "    <tr>\n",
       "      <th>491</th>\n",
       "      <td>tv</td>\n",
       "      <td>1399</td>\n",
       "      <td>Game of Thrones</td>\n",
       "      <td>Seven noble families fight for control of the ...</td>\n",
       "      <td>1406855 1878409 56746 1223799 33316 114404 122...</td>\n",
       "      <td>10765 18 10759</td>\n",
       "      <td>1223786 22970 239019 17286 1001657</td>\n",
       "    </tr>\n",
       "    <tr>\n",
       "      <th>492</th>\n",
       "      <td>tv</td>\n",
       "      <td>66732</td>\n",
       "      <td>Stranger Things</td>\n",
       "      <td>When a young boy vanishes, a small town uncove...</td>\n",
       "      <td>1113659 3025043 937878 1718785 1179419 17825 1...</td>\n",
       "      <td>18 10765 9648</td>\n",
       "      <td>1920 35029 1356210 1442069 1653291</td>\n",
       "    </tr>\n",
       "    <tr>\n",
       "      <th>493</th>\n",
       "      <td>tv</td>\n",
       "      <td>1402</td>\n",
       "      <td>The Walking Dead</td>\n",
       "      <td>Sheriff's deputy Rick Grimes awakens from a co...</td>\n",
       "      <td>NaN</td>\n",
       "      <td>10759 18 10765</td>\n",
       "      <td>4886 31535 62220 84224 1252310</td>\n",
       "    </tr>\n",
       "    <tr>\n",
       "      <th>494</th>\n",
       "      <td>tv</td>\n",
       "      <td>63174</td>\n",
       "      <td>Lucifer</td>\n",
       "      <td>Bored and unhappy as the Lord of Hell, Lucifer...</td>\n",
       "      <td>3211568 1215703 3211569 192944 1512022 3950 12...</td>\n",
       "      <td>80 10765</td>\n",
       "      <td>192944 37014 116474 21356 515875</td>\n",
       "    </tr>\n",
       "    <tr>\n",
       "      <th>495</th>\n",
       "      <td>tv</td>\n",
       "      <td>69050</td>\n",
       "      <td>Riverdale</td>\n",
       "      <td>Set in the present, the series offers a bold, ...</td>\n",
       "      <td>NaN</td>\n",
       "      <td>80 18 9648</td>\n",
       "      <td>1680339 1136940 1721740 56730 1592855</td>\n",
       "    </tr>\n",
       "  </tbody>\n",
       "</table>\n",
       "</div>"
      ],
      "text/plain": [
       "    media_type     id             title  \\\n",
       "491         tv   1399   Game of Thrones   \n",
       "492         tv  66732   Stranger Things   \n",
       "493         tv   1402  The Walking Dead   \n",
       "494         tv  63174           Lucifer   \n",
       "495         tv  69050         Riverdale   \n",
       "\n",
       "                                              overview  \\\n",
       "491  Seven noble families fight for control of the ...   \n",
       "492  When a young boy vanishes, a small town uncove...   \n",
       "493  Sheriff's deputy Rick Grimes awakens from a co...   \n",
       "494  Bored and unhappy as the Lord of Hell, Lucifer...   \n",
       "495  Set in the present, the series offers a bold, ...   \n",
       "\n",
       "                                               credits       genre_ids  \\\n",
       "491  1406855 1878409 56746 1223799 33316 114404 122...  10765 18 10759   \n",
       "492  1113659 3025043 937878 1718785 1179419 17825 1...   18 10765 9648   \n",
       "493                                                NaN  10759 18 10765   \n",
       "494  3211568 1215703 3211569 192944 1512022 3950 12...        80 10765   \n",
       "495                                                NaN      80 18 9648   \n",
       "\n",
       "                                  top_cast  \n",
       "491     1223786 22970 239019 17286 1001657  \n",
       "492     1920 35029 1356210 1442069 1653291  \n",
       "493         4886 31535 62220 84224 1252310  \n",
       "494       192944 37014 116474 21356 515875  \n",
       "495  1680339 1136940 1721740 56730 1592855  "
      ]
     },
     "execution_count": 4,
     "metadata": {},
     "output_type": "execute_result"
    }
   ],
   "source": [
    "tv_data = data.loc[data.media_type == 'tv']\n",
    "tv_data = tv_data[['media_type','id','title','overview','credits','genre_ids','top_cast']]\n",
    "tv_data.head()"
   ]
  },
  {
   "cell_type": "code",
   "execution_count": 5,
   "id": "6d2b8171-49b5-4b2f-a8ad-ad4608eafb56",
   "metadata": {},
   "outputs": [],
   "source": [
    "M_overview = np.array(movie_data.overview)\n",
    "M_credits = np.array(movie_data.credits)\n",
    "M_genre_ids = np.array(movie_data.genre_ids)\n",
    "M_top_cast = np.array(movie_data.top_cast)"
   ]
  },
  {
   "cell_type": "code",
   "execution_count": 6,
   "id": "a6721f52-3c98-4082-b323-f8a12a3f462e",
   "metadata": {},
   "outputs": [],
   "source": [
    "T_overview = np.array(tv_data.overview)\n",
    "T_credits = np.array(tv_data.credits)\n",
    "T_genre_ids = np.array(tv_data.genre_ids)\n",
    "T_top_cast = np.array(tv_data.top_cast)"
   ]
  },
  {
   "cell_type": "code",
   "execution_count": 7,
   "id": "1e789cf6-bc4d-4b7a-bf35-aa31a5983f7e",
   "metadata": {},
   "outputs": [
    {
     "data": {
      "application/vnd.jupyter.widget-view+json": {
       "model_id": "73a8d26bedb54708b77ecdef3af01134",
       "version_major": 2,
       "version_minor": 0
      },
      "text/plain": [
       "Batches:   0%|          | 0/16 [00:00<?, ?it/s]"
      ]
     },
     "metadata": {},
     "output_type": "display_data"
    }
   ],
   "source": [
    "M_overview_txt_data = M_overview.tolist()\n",
    "M_overview_model = SentenceTransformer('distilbert-base-nli-mean-tokens')\n",
    "M_overview_embeddings = M_overview_model.encode(M_overview_txt_data, show_progress_bar=True)\n",
    "M_overview = np.array(M_overview_embeddings)"
   ]
  },
  {
   "cell_type": "code",
   "execution_count": 8,
   "id": "f237590c-427f-4d51-9f91-368ad5515e91",
   "metadata": {},
   "outputs": [
    {
     "data": {
      "application/vnd.jupyter.widget-view+json": {
       "model_id": "3b570c698e4545b3a8b45a4e8adb456f",
       "version_major": 2,
       "version_minor": 0
      },
      "text/plain": [
       "Batches:   0%|          | 0/22 [00:00<?, ?it/s]"
      ]
     },
     "metadata": {},
     "output_type": "display_data"
    }
   ],
   "source": [
    "T_overview_txt_data = T_overview.tolist()\n",
    "T_overview_model = SentenceTransformer('distilbert-base-nli-mean-tokens')\n",
    "T_overview_embeddings = T_overview_model.encode(T_overview_txt_data, show_progress_bar=True)\n",
    "T_overview = np.array(T_overview_embeddings)"
   ]
  },
  {
   "cell_type": "code",
   "execution_count": 9,
   "id": "d6f0ffac",
   "metadata": {},
   "outputs": [
    {
     "data": {
      "application/vnd.jupyter.widget-view+json": {
       "model_id": "ddaa968db3d44d98917eb74710a8bd79",
       "version_major": 2,
       "version_minor": 0
      },
      "text/plain": [
       "Batches:   0%|          | 0/16 [00:00<?, ?it/s]"
      ]
     },
     "metadata": {},
     "output_type": "display_data"
    }
   ],
   "source": [
    "M_credits = M_credits.astype(str)\n",
    "M_credits_txt_data = M_credits.tolist()\n",
    "M_credits_model = SentenceTransformer('distilbert-base-nli-mean-tokens')\n",
    "M_credits_embeddings = M_credits_model.encode(M_credits_txt_data, show_progress_bar=True)\n",
    "M_credits = np.array(M_credits_embeddings)"
   ]
  },
  {
   "cell_type": "code",
   "execution_count": 10,
   "id": "c11c76e9-e413-49a5-a86a-46f8eea66937",
   "metadata": {},
   "outputs": [
    {
     "data": {
      "application/vnd.jupyter.widget-view+json": {
       "model_id": "b2ad4aee40a7421d9d8b81634d26da1f",
       "version_major": 2,
       "version_minor": 0
      },
      "text/plain": [
       "Batches:   0%|          | 0/22 [00:00<?, ?it/s]"
      ]
     },
     "metadata": {},
     "output_type": "display_data"
    }
   ],
   "source": [
    "T_credits = T_credits.astype(str)\n",
    "T_credits_txt_data = T_credits.tolist()\n",
    "T_credits_model = SentenceTransformer('distilbert-base-nli-mean-tokens')\n",
    "T_credits_embeddings = T_credits_model.encode(T_credits_txt_data, show_progress_bar=True)\n",
    "T_credits = np.array(T_credits_embeddings)"
   ]
  },
  {
   "cell_type": "code",
   "execution_count": 11,
   "id": "d25ca652-91c9-4416-89e0-c0707a73046c",
   "metadata": {},
   "outputs": [
    {
     "data": {
      "application/vnd.jupyter.widget-view+json": {
       "model_id": "d96f35f7909f4ad382775a2cdd25426f",
       "version_major": 2,
       "version_minor": 0
      },
      "text/plain": [
       "Batches:   0%|          | 0/16 [00:00<?, ?it/s]"
      ]
     },
     "metadata": {},
     "output_type": "display_data"
    }
   ],
   "source": [
    "M_genre_ids_txt_data = M_genre_ids.tolist()\n",
    "M_genre_ids_model = SentenceTransformer('all-mpnet-base-v2')\n",
    "M_genre_ids_embeddings = M_genre_ids_model.encode(M_genre_ids_txt_data, show_progress_bar=True)\n",
    "M_genre_ids = np.array(M_genre_ids_embeddings)"
   ]
  },
  {
   "cell_type": "code",
   "execution_count": 12,
   "id": "89c5b8f4-6971-46e9-ab82-7396b4c47d0f",
   "metadata": {},
   "outputs": [
    {
     "data": {
      "application/vnd.jupyter.widget-view+json": {
       "model_id": "9f7057c4a7424566a44004a9365bd4ea",
       "version_major": 2,
       "version_minor": 0
      },
      "text/plain": [
       "Batches:   0%|          | 0/22 [00:00<?, ?it/s]"
      ]
     },
     "metadata": {},
     "output_type": "display_data"
    }
   ],
   "source": [
    "T_genre_ids_txt_data = T_genre_ids.tolist()\n",
    "T_genre_ids_model = SentenceTransformer('all-mpnet-base-v2')\n",
    "T_genre_ids_embeddings = T_genre_ids_model.encode(T_genre_ids_txt_data, show_progress_bar=True)\n",
    "T_genre_ids = np.array(T_genre_ids_embeddings)"
   ]
  },
  {
   "cell_type": "code",
   "execution_count": 13,
   "id": "08c08807-749b-4333-b88a-cdc661dc5972",
   "metadata": {},
   "outputs": [
    {
     "data": {
      "application/vnd.jupyter.widget-view+json": {
       "model_id": "b48237d36a984654b458a60ac7f93bf0",
       "version_major": 2,
       "version_minor": 0
      },
      "text/plain": [
       "Batches:   0%|          | 0/16 [00:00<?, ?it/s]"
      ]
     },
     "metadata": {},
     "output_type": "display_data"
    }
   ],
   "source": [
    "M_top_cast_txt_data = M_top_cast.tolist()\n",
    "M_top_cast_model = SentenceTransformer('all-mpnet-base-v2')\n",
    "M_top_cast_embeddings = M_top_cast_model.encode(M_top_cast_txt_data, show_progress_bar=True)\n",
    "M_top_cast = np.array(M_top_cast_embeddings)"
   ]
  },
  {
   "cell_type": "code",
   "execution_count": 14,
   "id": "3270aaca-d0fb-4d93-baf3-e7c83af28296",
   "metadata": {},
   "outputs": [
    {
     "data": {
      "application/vnd.jupyter.widget-view+json": {
       "model_id": "04dfc220b07a4f79b6eaa2d04d5f87bb",
       "version_major": 2,
       "version_minor": 0
      },
      "text/plain": [
       "Batches:   0%|          | 0/22 [00:00<?, ?it/s]"
      ]
     },
     "metadata": {},
     "output_type": "display_data"
    }
   ],
   "source": [
    "T_top_cast = T_top_cast.astype(str)\n",
    "T_top_cast_txt_data = T_top_cast.tolist()\n",
    "T_top_cast_model = SentenceTransformer('all-mpnet-base-v2')\n",
    "T_top_cast_embeddings = T_top_cast_model.encode(T_top_cast_txt_data, show_progress_bar=True)\n",
    "T_top_cast = np.array(T_top_cast_embeddings)"
   ]
  },
  {
   "cell_type": "code",
   "execution_count": 15,
   "id": "8cb5fa38-6a58-4e50-8bdc-3e870aae2ee8",
   "metadata": {},
   "outputs": [
    {
     "name": "stdout",
     "output_type": "stream",
     "text": [
      "[7, 66, 384, 422, 122]\n"
     ]
    }
   ],
   "source": [
    "# input 5 titles\n",
    "disney_movies = []\n",
    "disney_movies.append(movie_data.index[movie_data['title'] == 'Brave'][0])\n",
    "disney_movies.append(movie_data.index[movie_data['title'] == 'Finding Nemo'][0]) \n",
    "disney_movies.append(movie_data.index[movie_data['title'] == 'Up'][0])\n",
    "disney_movies.append(movie_data.index[movie_data['title'] == 'The Incredibles'][0])\n",
    "disney_movies.append(movie_data.index[movie_data['title'] == 'Zootopia'][0])\n",
    "# print(movie_data.index[movie_data['title'] == 'Neighbors']) # 283\n",
    "print(disney_movies)\n"
   ]
  },
  {
   "cell_type": "code",
   "execution_count": 16,
   "id": "24233c1f-9cc4-47c9-8fe2-0a6bfba92861",
   "metadata": {
    "tags": []
   },
   "outputs": [
    {
     "name": "stdout",
     "output_type": "stream",
     "text": [
      "[[260, 87, 118, 133, 425], [143, 427, 452, 358, 144], [408, 69, 424, 109, 455], [359, 387, 318, 356, 78], [192, 292, 135, 195, 131]]\n"
     ]
    }
   ],
   "source": [
    "overview_cos_sim = pd.DataFrame(cosine_similarity(M_overview)) # will hold the cos values\n",
    "overview_list = []\n",
    "for movie_loc in disney_movies:\n",
    "    new_l = overview_cos_sim.loc[movie_loc].sort_values(ascending=False).index.tolist()[1:6]\n",
    "    overview_list.append(new_l)\n",
    "print(overview_list)"
   ]
  },
  {
   "cell_type": "code",
   "execution_count": 17,
   "id": "e93cdf33-0496-4a2d-91ab-3bc0c767c58e",
   "metadata": {},
   "outputs": [
    {
     "name": "stdout",
     "output_type": "stream",
     "text": [
      "[[487, 350, 144, 204, 153], [228, 102, 209, 342, 201], [119, 404, 162, 282, 31], [137, 466, 334, 455, 353], [444, 116, 251, 28, 159]]\n"
     ]
    }
   ],
   "source": [
    "credits_cos_sim = pd.DataFrame(cosine_similarity(M_credits)) # will hold the cos values\n",
    "credits_list = []\n",
    "for movie_loc in disney_movies:\n",
    "    new_l = credits_cos_sim.loc[movie_loc].sort_values(ascending=False).index.tolist()[1:6]\n",
    "    credits_list.append(new_l)\n",
    "print(credits_list)"
   ]
  },
  {
   "cell_type": "code",
   "execution_count": 18,
   "id": "e616ed14-0309-4df5-9c1d-86bf2c4d2be7",
   "metadata": {},
   "outputs": [
    {
     "name": "stdout",
     "output_type": "stream",
     "text": [
      "[[280, 7, 169, 345, 485], [483, 415, 293, 267, 1], [378, 140, 313, 384, 246], [190, 248, 293, 267, 415], [6, 292, 204, 227, 9]]\n"
     ]
    }
   ],
   "source": [
    "genre_ids_cos_sim = pd.DataFrame(cosine_similarity(M_genre_ids)) # will hold the cos values\n",
    "genre_ids_list = []\n",
    "for movie_loc in disney_movies:\n",
    "    new_l = genre_ids_cos_sim.loc[movie_loc].sort_values(ascending=False).index.tolist()[1:6]\n",
    "    genre_ids_list.append(new_l)\n",
    "print(genre_ids_list)"
   ]
  },
  {
   "cell_type": "code",
   "execution_count": 19,
   "id": "6e57a79f-9d59-449e-b017-2fd9c7d6e478",
   "metadata": {},
   "outputs": [
    {
     "name": "stdout",
     "output_type": "stream",
     "text": [
      "[[285, 33, 335, 160, 268], [159, 102, 203, 430, 463], [203, 243, 280, 200, 430], [456, 95, 271, 471, 310], [128, 481, 386, 6, 29]]\n"
     ]
    }
   ],
   "source": [
    "top_cast_cos_sim = pd.DataFrame(cosine_similarity(M_top_cast)) # will hold the cos values\n",
    "top_cast_list = []\n",
    "for movie_loc in disney_movies:\n",
    "    new_l = top_cast_cos_sim.loc[movie_loc].sort_values(ascending=False).index.tolist()[1:6]\n",
    "    top_cast_list.append( new_l)\n",
    "print(top_cast_list)"
   ]
  },
  {
   "cell_type": "code",
   "execution_count": 20,
   "id": "fec462ef-80ad-4897-bf37-e14ce02a9132",
   "metadata": {},
   "outputs": [
    {
     "name": "stdout",
     "output_type": "stream",
     "text": [
      "{260: 0.6492827, 87: 0.6203682, 118: 0.61683065, 133: 0.6060129, 425: 0.6055884, 487: 0.86048263, 350: 0.793483, 144: 1.5495981, 204: 1.7674208, 153: 0.75140566, 280: 1.8550354, 7: 1.0, 169: 1.0, 345: 1.0, 485: 1.0, 285: 0.71344817, 33: 0.6288729, 335: 0.62112606, 160: 0.61704457, 268: 0.6107468, 143: 0.78012574, 427: 0.77594525, 452: 0.76969916, 358: 0.768041, 228: 0.91233194, 102: 1.7885127, 209: 0.8890115, 342: 0.87621325, 201: 0.87516403, 483: 0.8914763, 415: 1.7139883, 293: 1.7101502, 267: 1.7101502, 1: 0.8637117, 159: 1.8054032, 203: 1.7722592, 430: 1.7365675, 463: 0.88212264, 408: 0.759803, 69: 0.7549467, 424: 0.7474871, 109: 0.7405548, 455: 1.5735462, 119: 0.9304802, 404: 0.92180765, 162: 0.9195185, 282: 0.9074293, 31: 0.9035888, 378: 1.0000002, 140: 1.0000002, 313: 1.0000002, 384: 1.0000002, 246: 1.0000002, 243: 0.86290514, 200: 0.8532745, 359: 0.72683746, 387: 0.70003426, 318: 0.69486845, 356: 0.6826486, 78: 0.68003213, 137: 0.8650371, 466: 0.8481353, 334: 0.8465189, 353: 0.83643556, 190: 0.9237863, 248: 0.9237863, 456: 0.87783045, 95: 0.8774123, 271: 0.868841, 471: 0.86491936, 310: 0.8635421, 192: 0.845887, 292: 1.8252325, 135: 0.82130325, 195: 0.81733555, 131: 0.81554794, 444: 0.94741756, 116: 0.9168726, 251: 0.91471756, 28: 0.9142246, 6: 1.9064101, 227: 0.9999999, 9: 0.9999999, 128: 0.9151542, 481: 0.9079602, 386: 0.9067554, 29: 0.9064102}\n"
     ]
    }
   ],
   "source": [
    "cos_dict = {}\n",
    "\n",
    "# print(overview_list)\n",
    "# print(credits_list)\n",
    "# print(genre_ids_list)\n",
    "# print(top_cast_list)\n",
    "# # disney_movies = [34, 40, 50, 205, 364]\n",
    "for index, movie in enumerate(disney_movies):\n",
    "    for loc in overview_list[index]:\n",
    "        if loc in cos_dict:\n",
    "            cos_dict[loc] += overview_cos_sim[movie][loc]\n",
    "        else:\n",
    "            cos_dict[loc] = overview_cos_sim[movie][loc]\n",
    "    for loc in credits_list[index]:\n",
    "        if loc in cos_dict:\n",
    "            cos_dict[loc] += credits_cos_sim[movie][loc]\n",
    "        else:\n",
    "            cos_dict[loc] = credits_cos_sim[movie][loc]\n",
    "    for loc in genre_ids_list[index]:\n",
    "        if loc in cos_dict:\n",
    "            cos_dict[loc] += genre_ids_cos_sim[movie][loc]\n",
    "        else:\n",
    "            cos_dict[loc] = genre_ids_cos_sim[movie][loc]\n",
    "    for loc in top_cast_list[index]:\n",
    "        if loc in cos_dict:\n",
    "            cos_dict[loc] += top_cast_cos_sim[movie][loc]\n",
    "        else:\n",
    "            cos_dict[loc] = top_cast_cos_sim[movie][loc]\n",
    "print(cos_dict)"
   ]
  },
  {
   "cell_type": "code",
   "execution_count": 21,
   "id": "d2814766-a984-48a9-9efb-7d1190f945f0",
   "metadata": {},
   "outputs": [],
   "source": [
    "# # disney_movies = [34, 40, 50, 205, 364]\n",
    "# print(credits_cos_sim[34][154])\n",
    "# print(genre_ids_cos_sim[364][154])\n",
    "\n"
   ]
  },
  {
   "cell_type": "code",
   "execution_count": 22,
   "id": "fbd1905c-1c71-4332-ad9f-2ee7c6b3027f",
   "metadata": {},
   "outputs": [
    {
     "name": "stdout",
     "output_type": "stream",
     "text": [
      "Guardians of the Galaxy\n",
      "Juno\n",
      "The Tomorrow War\n",
      "21 Jump Street\n",
      "Aquaman\n",
      "Howl's Moving Castle\n",
      "Alita: Battle Angel\n",
      "The Gentlemen\n",
      "Extraction\n",
      "Captain Phillips\n"
     ]
    }
   ],
   "source": [
    "sorted_cos_dict = []\n",
    "sorted_cos_dict = sorted(cos_dict.items(), key=lambda x:x[1], reverse=True)\n",
    "# print(sorted_cos_dict[:10])\n",
    "for m_id, cos_data in sorted_cos_dict[:10]:\n",
    "    print(movie_data.title[m_id])"
   ]
  },
  {
   "cell_type": "code",
   "execution_count": null,
   "id": "e0e829ef-90db-4ece-b1ac-abf9ba1862f8",
   "metadata": {},
   "outputs": [],
   "source": []
  },
  {
   "cell_type": "code",
   "execution_count": null,
   "id": "938cd6ef-f118-4325-9a85-a0625e18c8ca",
   "metadata": {},
   "outputs": [],
   "source": []
  }
 ],
 "metadata": {
  "kernelspec": {
   "display_name": "Python 3 (ipykernel)",
   "language": "python",
   "name": "python3"
  },
  "language_info": {
   "codemirror_mode": {
    "name": "ipython",
    "version": 3
   },
   "file_extension": ".py",
   "mimetype": "text/x-python",
   "name": "python",
   "nbconvert_exporter": "python",
   "pygments_lexer": "ipython3",
   "version": "3.10.7"
  }
 },
 "nbformat": 4,
 "nbformat_minor": 5
}
