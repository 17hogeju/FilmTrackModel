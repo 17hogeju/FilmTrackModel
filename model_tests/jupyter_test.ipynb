{
 "cells": [
  {
   "cell_type": "code",
   "execution_count": 3,
   "id": "6f470277-8882-4545-b79b-a3ebeb07f588",
   "metadata": {
    "tags": []
   },
   "outputs": [],
   "source": [
    "import matplotlib.pyplot as plt\n",
    "import numpy as np\n",
    "from sentence_transformers import SentenceTransformer\n",
    "import pandas as pd\n",
    "import seaborn as sns\n",
    "from sklearn.feature_extraction.text import CountVectorizer\n",
    "from sklearn.cluster import KMeans\n",
    "from sklearn.metrics.pairwise import cosine_similarity\n",
    "from sklearn.decomposition import PCA\n",
    "import csv\n",
    "from tempfile import TemporaryDirectory\n",
    "\n",
    "plt.style.use('ggplot')\n",
    "plt.rcParams['font.family'] = 'sans-serif' \n",
    "plt.rcParams['font.serif'] = 'Ubuntu' \n",
    "plt.rcParams['font.monospace'] = 'Ubuntu Mono' \n",
    "plt.rcParams['font.size'] = 14 \n",
    "plt.rcParams['axes.labelsize'] = 12 \n",
    "plt.rcParams['axes.labelweight'] = 'bold' \n",
    "plt.rcParams['axes.titlesize'] = 12 \n",
    "plt.rcParams['xtick.labelsize'] = 12 \n",
    "plt.rcParams['ytick.labelsize'] = 12 \n",
    "plt.rcParams['legend.fontsize'] = 12 \n",
    "plt.rcParams['figure.titlesize'] = 12 \n",
    "plt.rcParams['image.cmap'] = 'jet' \n",
    "plt.rcParams['image.interpolation'] = 'none' \n",
    "plt.rcParams['figure.figsize'] = (12, 10) \n",
    "plt.rcParams['axes.grid']=True\n",
    "plt.rcParams['lines.linewidth'] = 2 \n",
    "plt.rcParams['lines.markersize'] = 8\n",
    "colors = ['xkcd:pale orange', 'xkcd:sea blue', 'xkcd:pale red', 'xkcd:sage green', 'xkcd:terra cotta', 'xkcd:dull purple', 'xkcd:teal', 'xkcd: goldenrod', 'xkcd:cadet blue',\n",
    "'xkcd:scarlet']"
   ]
  },
  {
   "cell_type": "code",
   "execution_count": 4,
   "id": "5e1e123e-c50a-44ed-a3bf-ce965943bed0",
   "metadata": {},
   "outputs": [],
   "source": [
    "data = pd.read_csv('media.csv', quoting=csv.QUOTE_NONE, delimiter='|',escapechar='\\\\')\n",
    "data = data.fillna('')"
   ]
  },
  {
   "cell_type": "code",
   "execution_count": 5,
   "id": "3ccbc665-e706-419f-9b43-85df68d87f8d",
   "metadata": {},
   "outputs": [],
   "source": [
    "M_overview = np.array(data.loc[data[\"media_type\"] == \"movie\"][\"overview\"])\n",
    "T_overview = np.array(data.loc[data[\"media_type\"] == \"tv\"][\"overview\"])\n",
    "\n",
    "M_credits = np.array(data.loc[data[\"media_type\"] == \"movie\"][\"credits\"])\n",
    "T_credits = np.array(data.loc[data[\"media_type\"] == \"tv\"][\"credits\"])\n",
    "\n",
    "M_genre_ids = np.array(data.loc[data[\"media_type\"] == \"movie\"][\"genre_ids\"])\n",
    "T_genre_ids = np.array(data.loc[data[\"media_type\"] == \"tv\"][\"genre_ids\"])"
   ]
  },
  {
   "cell_type": "code",
   "execution_count": 6,
   "id": "0eec5199-9b11-4da8-ae70-6b1b625ce39e",
   "metadata": {},
   "outputs": [],
   "source": [
    "model = SentenceTransformer('all-distilroberta-v1')\n",
    "\n",
    "output_dir = TemporaryDirectory()\n",
    "\n",
    "model.save(output_dir.name)\n"
   ]
  },
  {
   "cell_type": "code",
   "execution_count": 7,
   "id": "1e789cf6-bc4d-4b7a-bf35-aa31a5983f7e",
   "metadata": {},
   "outputs": [
    {
     "data": {
      "application/vnd.jupyter.widget-view+json": {
       "model_id": "e105e5eea1e948ccb004cb16cc41aba0",
       "version_major": 2,
       "version_minor": 0
      },
      "text/plain": [
       "Batches:   0%|          | 0/157 [00:00<?, ?it/s]"
      ]
     },
     "metadata": {},
     "output_type": "display_data"
    },
    {
     "data": {
      "application/vnd.jupyter.widget-view+json": {
       "model_id": "715555be04ed45de8c550d3199296b58",
       "version_major": 2,
       "version_minor": 0
      },
      "text/plain": [
       "Batches:   0%|          | 0/157 [00:00<?, ?it/s]"
      ]
     },
     "metadata": {},
     "output_type": "display_data"
    }
   ],
   "source": [
    "M_overview_embeddings = model.encode(M_overview, show_progress_bar=True)\n",
    "M_overview = np.array(M_overview_embeddings)\n",
    "\n",
    "T_overview_embeddings = model.encode(list(T_overview), show_progress_bar=True)\n",
    "T_overview = np.array(T_overview_embeddings)"
   ]
  },
  {
   "cell_type": "code",
   "execution_count": 8,
   "id": "d6f0ffac",
   "metadata": {},
   "outputs": [
    {
     "data": {
      "application/vnd.jupyter.widget-view+json": {
       "model_id": "6baceae4c882444f91ab405e9a53c6ce",
       "version_major": 2,
       "version_minor": 0
      },
      "text/plain": [
       "Batches:   0%|          | 0/157 [00:00<?, ?it/s]"
      ]
     },
     "metadata": {},
     "output_type": "display_data"
    },
    {
     "data": {
      "application/vnd.jupyter.widget-view+json": {
       "model_id": "bbe78d0f25fd4de6ac3c857070370215",
       "version_major": 2,
       "version_minor": 0
      },
      "text/plain": [
       "Batches:   0%|          | 0/157 [00:00<?, ?it/s]"
      ]
     },
     "metadata": {},
     "output_type": "display_data"
    }
   ],
   "source": [
    "M_credits_embeddings = model.encode(M_credits, show_progress_bar=True)\n",
    "M_credits = np.array(M_credits_embeddings)\n",
    "\n",
    "T_credits_embeddings = model.encode(T_credits, show_progress_bar=True)\n",
    "T_credits = np.array(T_credits_embeddings)"
   ]
  },
  {
   "cell_type": "code",
   "execution_count": 9,
   "id": "d25ca652-91c9-4416-89e0-c0707a73046c",
   "metadata": {},
   "outputs": [
    {
     "data": {
      "application/vnd.jupyter.widget-view+json": {
       "model_id": "8d90b8f775fc44489efca78dcbcb3f91",
       "version_major": 2,
       "version_minor": 0
      },
      "text/plain": [
       "Batches:   0%|          | 0/157 [00:00<?, ?it/s]"
      ]
     },
     "metadata": {},
     "output_type": "display_data"
    },
    {
     "data": {
      "application/vnd.jupyter.widget-view+json": {
       "model_id": "f1709fc106224ebc81cb1d43f2c90d75",
       "version_major": 2,
       "version_minor": 0
      },
      "text/plain": [
       "Batches:   0%|          | 0/157 [00:00<?, ?it/s]"
      ]
     },
     "metadata": {},
     "output_type": "display_data"
    }
   ],
   "source": [
    "M_genre_ids_embeddings = model.encode(M_genre_ids, show_progress_bar=True)\n",
    "M_genre_ids = np.array(M_genre_ids_embeddings)\n",
    "\n",
    "T_genre_ids_embeddings = model.encode(T_genre_ids, show_progress_bar=True)\n",
    "T_genre_ids = np.array(T_genre_ids_embeddings)"
   ]
  },
  {
   "cell_type": "code",
   "execution_count": 26,
   "id": "24233c1f-9cc4-47c9-8fe2-0a6bfba92861",
   "metadata": {
    "tags": []
   },
   "outputs": [
    {
     "name": "stdout",
     "output_type": "stream",
     "text": [
      "[1183, 3297, 552, 623, 2263]\n",
      "[[923, 2783, 893, 3220, 1039], [2784, 630, 3078, 1177, 2744], [2956, 671, 4574, 4688, 2456], [663, 1289, 1135, 4049, 3328], [3061, 150, 4591, 1295, 3097]]\n",
      "[[3191, 3326, 81, 2870, 4150], [2489, 41, 1958, 4787, 377], [2953, 289, 1263, 4339, 1881], [2281, 3666, 3029, 3596, 1240], [4302, 2478, 1538, 732, 2389]]\n",
      "[[1526, 1560, 134, 4835, 3586], [605, 1650, 3136, 911, 4217], [551, 671, 4015, 2598, 2305], [3420, 4539, 4767, 1792, 1228], [3015, 769, 2429, 1718, 4986]]\n"
     ]
    }
   ],
   "source": [
    "# Movies\n",
    "movies = []\n",
    "movies.append(data.index[data['title'] == \"Chicken Little\"][0])\n",
    "movies.append(data.index[data['title'] == 'Father of the Bride'][0]) \n",
    "movies.append(data.index[data['title'] == 'Superbad'][0])\n",
    "movies.append(data.index[data['title'] == \"The Emperor's New Groove\"][0])\n",
    "movies.append(data.index[data['title'] == 'Harold & Kumar Go to White Castle'][0])\n",
    "\n",
    "# movies.append(data.index[data['title'] == 'The Hunt for Red October'][0])\n",
    "# movies.append(data.index[data['title'] == 'The Living Daylights'][0]) \n",
    "# movies.append(data.index[data['title'] == \"You're Next\"][0])\n",
    "# movies.append(data.index[data['title'] == 'Daylight'][0])\n",
    "# movies.append(data.index[data['title'] == 'The Rock'][0])\n",
    "# print(movie_data.index[movie_data['title'] == 'Neighbors']) # 283\n",
    "print(movies)\n",
    "\n",
    "overview_cos_sim = pd.DataFrame(cosine_similarity(M_overview)) # will hold the cos values\n",
    "overview_list = []\n",
    "for movie_loc in movies:\n",
    "    new_l = overview_cos_sim.loc[movie_loc].sort_values(ascending=False).index.tolist()[1:]\n",
    "    new_l = [x for x in new_l if x not in movies]\n",
    "    overview_list.append(new_l[:5])\n",
    "print(overview_list)\n",
    "\n",
    "credits_cos_sim = pd.DataFrame(cosine_similarity(M_credits)) # will hold the cos values\n",
    "credits_list = []\n",
    "for movie_loc in movies:\n",
    "    new_l = credits_cos_sim.loc[movie_loc].sort_values(ascending=False).index.tolist()[1:]\n",
    "    new_l = [x for x in new_l if x not in movies]\n",
    "    credits_list.append(new_l[:5])\n",
    "print(credits_list)\n",
    "\n",
    "genre_ids_cos_sim = pd.DataFrame(cosine_similarity(M_genre_ids)) # will hold the cos values\n",
    "genre_ids_list = []\n",
    "for movie_loc in movies:\n",
    "    new_l = genre_ids_cos_sim.loc[movie_loc].sort_values(ascending=False).index.tolist()[1:]\n",
    "    new_l = [x for x in new_l if x not in movies]\n",
    "    genre_ids_list.append(new_l[:5])\n",
    "print(genre_ids_list)"
   ]
  },
  {
   "cell_type": "code",
   "execution_count": 27,
   "id": "fec462ef-80ad-4897-bf37-e14ce02a9132",
   "metadata": {},
   "outputs": [
    {
     "name": "stdout",
     "output_type": "stream",
     "text": [
      "{923: 0.52581376, 2783: 0.49517012, 893: 0.49013478, 3220: 0.4781922, 1039: 0.46949032, 3191: 0.9660518, 3326: 0.96004885, 81: 0.959752, 2870: 0.9574533, 4150: 0.95744497, 1526: 0.9999999, 1560: 0.9999999, 134: 0.9999999, 4835: 0.9999999, 3586: 0.9999999, 2784: 0.66616756, 630: 0.5362286, 3078: 0.5316645, 1177: 0.52897054, 2744: 0.5252383, 2489: 0.96941507, 41: 0.9685225, 1958: 0.96308637, 4787: 0.9629638, 377: 0.96267307, 605: 1.0000004, 1650: 1.0000004, 3136: 1.0000004, 911: 1.0000004, 4217: 1.0000004, 2956: 0.52224743, 671: 1.4975524, 4574: 0.48885316, 4688: 0.4855721, 2456: 0.47636354, 2953: 0.9554904, 289: 0.95293814, 1263: 0.9494047, 4339: 0.94785374, 1881: 0.9464012, 551: 1.0, 4015: 1.0, 2598: 1.0, 2305: 1.0, 663: 0.5395138, 1289: 0.4906416, 1135: 0.47910437, 4049: 0.47782165, 3328: 0.47137046, 2281: 0.94423103, 3666: 0.94255835, 3029: 0.9420367, 3596: 0.9412289, 1240: 0.94036037, 3420: 1.0, 4539: 0.97385097, 4767: 0.968633, 1792: 0.95211184, 1228: 0.95211184, 3061: 0.6112274, 150: 0.4967699, 4591: 0.46920267, 1295: 0.46899188, 3097: 0.46610844, 4302: 0.979668, 2478: 0.971688, 1538: 0.97097313, 732: 0.9667097, 2389: 0.96591914, 3015: 0.9999999, 769: 0.9999999, 2429: 0.9999999, 1718: 0.9999999, 4986: 0.9999999}\n"
     ]
    }
   ],
   "source": [
    "cos_dict = {}\n",
    "\n",
    "for index, movie_loc in enumerate(movies):\n",
    "    for loc in overview_list[index]:\n",
    "        if loc in cos_dict:\n",
    "            cos_dict[loc] += overview_cos_sim[movie_loc][loc]\n",
    "        else:\n",
    "            cos_dict[loc] = overview_cos_sim[movie_loc][loc]\n",
    "    for loc in credits_list[index]:\n",
    "        if loc in cos_dict:\n",
    "            cos_dict[loc] += credits_cos_sim[movie_loc][loc]\n",
    "        else:\n",
    "            cos_dict[loc] = credits_cos_sim[movie_loc][loc]\n",
    "    for loc in genre_ids_list[index]:\n",
    "        if loc in cos_dict:\n",
    "            cos_dict[loc] += genre_ids_cos_sim[movie_loc][loc]\n",
    "        else:\n",
    "            cos_dict[loc] = genre_ids_cos_sim[movie_loc][loc]\n",
    "print(cos_dict)"
   ]
  },
  {
   "cell_type": "code",
   "execution_count": 28,
   "id": "fbd1905c-1c71-4332-ad9f-2ee7c6b3027f",
   "metadata": {},
   "outputs": [
    {
     "name": "stdout",
     "output_type": "stream",
     "text": [
      "Project X\n",
      "The 40 Year Old Virgin\n",
      "Along Came Polly\n",
      "It's Complicated\n",
      "American Pie 2\n",
      "Date Movie\n",
      "Easy A\n",
      "Airplane II: The Sequel\n",
      "Suck Me Shakespeer\n",
      "Not Another Teen Movie\n"
     ]
    }
   ],
   "source": [
    "sorted_cos_dict = []\n",
    "sorted_cos_dict = sorted(cos_dict.items(), key=lambda x:x[1], reverse=True)\n",
    "# print(sorted_cos_dict[:10])\n",
    "for m_id, cos_data in sorted_cos_dict[:10]:\n",
    "    print(data.title[m_id])"
   ]
  },
  {
   "cell_type": "code",
   "execution_count": null,
   "id": "e0e829ef-90db-4ece-b1ac-abf9ba1862f8",
   "metadata": {},
   "outputs": [],
   "source": []
  },
  {
   "cell_type": "code",
   "execution_count": null,
   "id": "938cd6ef-f118-4325-9a85-a0625e18c8ca",
   "metadata": {},
   "outputs": [],
   "source": []
  }
 ],
 "metadata": {
  "kernelspec": {
   "display_name": "Python 3 (ipykernel)",
   "language": "python",
   "name": "python3"
  },
  "language_info": {
   "codemirror_mode": {
    "name": "ipython",
    "version": 3
   },
   "file_extension": ".py",
   "mimetype": "text/x-python",
   "name": "python",
   "nbconvert_exporter": "python",
   "pygments_lexer": "ipython3",
   "version": "3.10.7"
  },
  "vscode": {
   "interpreter": {
    "hash": "a8c46f1f1806e952fe27a7eeeeac5603af9d72cb00102ec96ef8b9b17f282e25"
   }
  }
 },
 "nbformat": 4,
 "nbformat_minor": 5
}
