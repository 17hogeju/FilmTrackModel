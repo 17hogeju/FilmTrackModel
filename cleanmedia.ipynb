{
 "cells": [
  {
   "cell_type": "code",
   "execution_count": 1,
   "id": "004417f7-3104-4fed-8f7b-4c1ff0b7daa4",
   "metadata": {},
   "outputs": [],
   "source": [
    "from selenium.webdriver.common.keys import Keys\n",
    "from selenium.webdriver.common.by import By\n",
    "from selenium import webdriver\n",
    "from IPython.display import clear_output\n",
    "import string\n",
    "import json"
   ]
  },
  {
   "cell_type": "code",
   "execution_count": 2,
   "id": "6267c33a-06ad-4763-96fa-208983302112",
   "metadata": {},
   "outputs": [
    {
     "name": "stderr",
     "output_type": "stream",
     "text": [
      "C:\\Users\\smara\\AppData\\Local\\Temp\\ipykernel_3096\\929283111.py:2: DeprecationWarning: executable_path has been deprecated, please pass in a Service object\n",
      "  driver=webdriver.Chrome(executable_path='C:\\Webdrivers\\chromedriver.exe')\n"
     ]
    }
   ],
   "source": [
    "# Download this here - https://chromedriver.chromium.org/home\n",
    "driver=webdriver.Chrome(executable_path='C:\\Webdrivers\\chromedriver.exe')"
   ]
  },
  {
   "cell_type": "code",
   "execution_count": 3,
   "id": "0b4239a0-7245-4cf1-aab1-09c62a1a3741",
   "metadata": {},
   "outputs": [],
   "source": [
    "services = ['Netflix', 'Hulu', 'HBO MAX', 'Prime Video', 'Disney+']\n",
    "def get_json(t, y, m):\n",
    "    ret_json = {}\n",
    "    \n",
    "    ## get from json ##\n",
    "    title = t.translate(str.maketrans('', '', string.punctuation))\n",
    "    year = y\n",
    "    media_type = m\n",
    "\n",
    "    ## construct key for searching ##\n",
    "    fin = \"\"\n",
    "    for i in title.lower().split():\n",
    "        fin += f\"{i}-\"\n",
    "    fin += str(year)\n",
    "  \n",
    "    url = f'https://reelgood.com/{media_type}/{fin}'\n",
    "    driver.get(url)\n",
    "    \n",
    "    ## if statement to determine if this item even exists in reelgood ##\n",
    "    if len(driver.find_elements(By.CLASS_NAME, 'css-1gd9rdl')) == 0:\n",
    "        \n",
    "        ## determine if we should remove this item ##\n",
    "        url = f'https://reelgood.com/{media_type}/{fin}-1'\n",
    "        driver.get(url)\n",
    "        ## if this statement is true, that means there were two of these films in the same year with the same name ##\n",
    "        if len(driver.find_elements(By.CLASS_NAME, 'css-1gd9rdl')) == 0:\n",
    "            return ret_json\n",
    "        \n",
    "        url = f'https://reelgood.com/{media_type}/{fin}'\n",
    "        driver.get(url)\n",
    "        \n",
    "        ## pic ##\n",
    "        # First get the title of the movie with the correct capitalization\n",
    "        caps_title = driver.find_element(By.CLASS_NAME, \"css-1hbd8x5\").text\n",
    "        img = driver.find_elements(By.CSS_SELECTOR, f'[alt=\"{caps_title} Poster\"]')\n",
    "        pic = img[0].get_attribute(\"src\") if len(img) > 0 else \"\"\n",
    "        ret_json.update({\"image\": pic})\n",
    "\n",
    "        ## rank ##\n",
    "        rank = driver.find_element(By.CLASS_NAME, 'css-r3vd4y').text\n",
    "        ret_json.update({\"rank\": (int(rank[1:len(rank)-13]))})\n",
    "\n",
    "        ## streaming services ##\n",
    "        sevs = driver.find_elements(By.CLASS_NAME, 'css-16e286y-Span-Name')\n",
    "        services_list = []\n",
    "        for i in sevs:\n",
    "            if i.text in services:\n",
    "                services_list += [i.text]\n",
    "        if not services_list:\n",
    "            ret_json = {}\n",
    "        else:\n",
    "            ret_json.update({\"services\": services_list})\n",
    "    \n",
    "    return ret_json\n",
    "        "
   ]
  },
  {
   "cell_type": "code",
   "execution_count": 4,
   "id": "29c8be27-f32e-4def-8892-7cbf5022efb4",
   "metadata": {},
   "outputs": [],
   "source": [
    "# make sure this points at the JSON\n",
    "with open('media/media.json','r') as f:\n",
    "    data = json.loads(f.read())\n"
   ]
  },
  {
   "cell_type": "code",
   "execution_count": null,
   "id": "10f29042-f90e-496f-a028-bab179739012",
   "metadata": {},
   "outputs": [
    {
     "name": "stdout",
     "output_type": "stream",
     "text": [
      "Total media processed: 72118\n",
      "Media after 2000 processed: 16\n",
      "Total json: 2\n"
     ]
    }
   ],
   "source": [
    "json_media = {}\n",
    "media_after_start_year = 0\n",
    "start_year = 2000\n",
    "total_media_processed = 0\n",
    "\n",
    "for key, value in data['media'].items():\n",
    "    total_media_processed += 1\n",
    "    if 'startYear' in value and value['startYear'] > start_year:\n",
    "        media_after_start_year += 1\n",
    "        \n",
    "        title = value['originalTitle']\n",
    "        date = value['startYear']\n",
    "        media_type = value['titleType'] \n",
    "        \n",
    "        added_json = get_json(title, date, media_type)\n",
    "        if added_json:\n",
    "            json_media.update({key: value})\n",
    "            json_media[key].update(added_json)\n",
    "    \n",
    "    clear_output(wait=True)\n",
    "    print(f\"Total media processed: {total_media_processed}\")\n",
    "    print(f\"Media after {start_year} processed: {media_after_start_year}\")\n",
    "    print(f\"Total json: {len(json_media)}\")\n",
    "    \n",
    "\n",
    "clear_output(wait=True)\n",
    "print(f\"Total media processed: {total_media_processed}\")\n",
    "print(f\"Media after {start_year} processed: {media_after_start_year}\")\n",
    "print(f\"Total json: {len(json_media)}\")"
   ]
  }
 ],
 "metadata": {
  "kernelspec": {
   "display_name": "Python 3 (ipykernel)",
   "language": "python",
   "name": "python3"
  },
  "language_info": {
   "codemirror_mode": {
    "name": "ipython",
    "version": 3
   },
   "file_extension": ".py",
   "mimetype": "text/x-python",
   "name": "python",
   "nbconvert_exporter": "python",
   "pygments_lexer": "ipython3",
   "version": "3.8.5"
  }
 },
 "nbformat": 4,
 "nbformat_minor": 5
}
